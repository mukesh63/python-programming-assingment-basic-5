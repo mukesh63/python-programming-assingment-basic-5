{
 "cells": [
  {
   "cell_type": "code",
   "execution_count": 1,
   "metadata": {},
   "outputs": [],
   "source": [
    "# Q1"
   ]
  },
  {
   "cell_type": "code",
   "execution_count": 4,
   "metadata": {},
   "outputs": [
    {
     "name": "stdout",
     "output_type": "stream",
     "text": [
      "enter a number1 : 30\n",
      "enter a number2 : 10\n",
      "lcm of num1 and num2 is:  30\n"
     ]
    }
   ],
   "source": [
    "num1 = int(input('enter a number1 : '))\n",
    "num2 = int(input('enter a number2 : '))\n",
    "if num1 > num2:\n",
    "    greater = num1\n",
    "else:\n",
    "    greater = num2\n",
    "new_value = greater\n",
    "while True:\n",
    "    if greater % num1 == 0 and greater % num2 == 0:\n",
    "        print('lcm of num1 and num2 is: ',greater)\n",
    "        break\n",
    "    else:\n",
    "        greater = greater + new_value"
   ]
  },
  {
   "cell_type": "code",
   "execution_count": 5,
   "metadata": {},
   "outputs": [],
   "source": [
    "# q2"
   ]
  },
  {
   "cell_type": "code",
   "execution_count": 4,
   "metadata": {},
   "outputs": [
    {
     "name": "stdout",
     "output_type": "stream",
     "text": [
      "enter a number1: 14\n",
      "enter a number2: 16\n",
      "the hcf is  0\n",
      "the hcf of two prime number is 1\n"
     ]
    }
   ],
   "source": [
    "n1 = int(input('enter a number1: ')) #\n",
    "n2 = int(input('enter a number2: '))\n",
    "while True:\n",
    "    if n1 < n2 and n2%n1 == 0:\n",
    "        print('the hcf is ',n1)\n",
    "        break\n",
    "    elif n2%n1 != 0:\n",
    "        new_val = n2%n1\n",
    "        print('the hcf is ',n1%new_val)\n",
    "        break"
   ]
  },
  {
   "cell_type": "code",
   "execution_count": 2,
   "metadata": {},
   "outputs": [],
   "source": [
    "# Q3"
   ]
  },
  {
   "cell_type": "code",
   "execution_count": 2,
   "metadata": {},
   "outputs": [
    {
     "name": "stdout",
     "output_type": "stream",
     "text": [
      "enter a decimal value: 10\n",
      "bianry conversion is:  0b1010\n",
      "octal conversion is:  0o12\n",
      "hec conversion is:  0xa\n"
     ]
    }
   ],
   "source": [
    "dec1 = int(input('enter a decimal value: '))\n",
    "print('bianry conversion is: ',bin(dec1))\n",
    "print('octal conversion is: ',oct(dec1))\n",
    "print('hec conversion is: ',hex(dec1))"
   ]
  },
  {
   "cell_type": "code",
   "execution_count": 17,
   "metadata": {},
   "outputs": [],
   "source": [
    "#q4"
   ]
  },
  {
   "cell_type": "code",
   "execution_count": 5,
   "metadata": {},
   "outputs": [
    {
     "name": "stdout",
     "output_type": "stream",
     "text": [
      "enter a decimal value: 55\n",
      "bianry conversion is:  7\n"
     ]
    }
   ],
   "source": [
    "dec2 = int(input('enter a decimal value: '))\n",
    "print('ascii conversion is: ',chr(dec2))"
   ]
  },
  {
   "cell_type": "code",
   "execution_count": 15,
   "metadata": {},
   "outputs": [
    {
     "name": "stdout",
     "output_type": "stream",
     "text": [
      "Enter any decimal number: 10\n",
      "1010"
     ]
    }
   ],
   "source": [
    "def decimalToBinary(num):\n",
    "    \"\"\"This function converts decimal number\n",
    "    to binary and prints it\"\"\"\n",
    "    if num > 1:\n",
    "        decimalToBinary(num // 2)\n",
    "    print(num % 2, end='')\n",
    "\n",
    "\n",
    "# decimal number\n",
    "number = int(input(\"Enter any decimal number: \"))\n",
    "\n",
    "decimalToBinary(number)"
   ]
  },
  {
   "cell_type": "code",
   "execution_count": 3,
   "metadata": {},
   "outputs": [
    {
     "data": {
      "text/plain": [
       "7.5"
      ]
     },
     "execution_count": 3,
     "metadata": {},
     "output_type": "execute_result"
    }
   ],
   "source": [
    "15/2"
   ]
  },
  {
   "cell_type": "code",
   "execution_count": null,
   "metadata": {},
   "outputs": [],
   "source": [
    "#Q4"
   ]
  },
  {
   "cell_type": "code",
   "execution_count": 7,
   "metadata": {},
   "outputs": [
    {
     "ename": "IndentationError",
     "evalue": "expected an indented block (<ipython-input-7-3516ccdc8718>, line 5)",
     "output_type": "error",
     "traceback": [
      "\u001b[1;36m  File \u001b[1;32m\"<ipython-input-7-3516ccdc8718>\"\u001b[1;36m, line \u001b[1;32m5\u001b[0m\n\u001b[1;33m    print(dec)\u001b[0m\n\u001b[1;37m    ^\u001b[0m\n\u001b[1;31mIndentationError\u001b[0m\u001b[1;31m:\u001b[0m expected an indented block\n"
     ]
    }
   ],
   "source": [
    "dec = int(input('enter a decimal value: '))\n"
   ]
  },
  {
   "cell_type": "code",
   "execution_count": null,
   "metadata": {},
   "outputs": [],
   "source": [
    "# Q5"
   ]
  },
  {
   "cell_type": "code",
   "execution_count": 11,
   "metadata": {},
   "outputs": [
    {
     "name": "stdout",
     "output_type": "stream",
     "text": [
      "enter input1: 10\n",
      "enter input2: 20\n",
      "for add press in3 1\n",
      "for subt press in3 2 \n",
      "for division press in3 3 \n",
      "for multi press  in3 4\n",
      "operation : 1\n",
      "addtition of number is :  30\n"
     ]
    }
   ],
   "source": [
    "in1 = int(input('enter input1: '))\n",
    "in2 = int(input('enter input2: '))\n",
    "print('for add press in3 1' )\n",
    "print('for subt press in3 2 ')\n",
    "print('for division press in3 3 ')\n",
    "print('for multi press  in3 4')\n",
    "in3 = int(input('operation : '))\n",
    "if in3 == 1:\n",
    "    print('addtition of number is : ',in1 + in2)\n",
    "elif in3 == 2:\n",
    "    print('subtraction of number is : ',in1 - in2)\n",
    "elif in3 == 3:\n",
    "    print('divison of number is : ',in1/in2)\n",
    "elif in3 == 4:\n",
    "    print('multiplication of number is: ',in1*in2)\n",
    "else:\n",
    "    print('please enter appropriate operation')"
   ]
  },
  {
   "cell_type": "code",
   "execution_count": null,
   "metadata": {},
   "outputs": [],
   "source": []
  }
 ],
 "metadata": {
  "kernelspec": {
   "display_name": "Python 3",
   "language": "python",
   "name": "python3"
  },
  "language_info": {
   "codemirror_mode": {
    "name": "ipython",
    "version": 3
   },
   "file_extension": ".py",
   "mimetype": "text/x-python",
   "name": "python",
   "nbconvert_exporter": "python",
   "pygments_lexer": "ipython3",
   "version": "3.8.3"
  }
 },
 "nbformat": 4,
 "nbformat_minor": 4
}
